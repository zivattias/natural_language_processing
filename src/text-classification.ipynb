{
 "cells": [
  {
   "cell_type": "markdown",
   "metadata": {},
   "source": [
    "# Natural Language Processing - Text Classification\n",
    "\n",
    "### Ziv Attias\n"
   ]
  },
  {
   "cell_type": "code",
   "execution_count": 1,
   "metadata": {},
   "outputs": [],
   "source": [
    "import os\n",
    "\n",
    "import pandas as pd\n",
    "\n",
    "# Load the emotion analysis dataset\n",
    "dataset_file_name = os.path.join(\"data\", \"emotion_sentiment_dataset.csv\")\n",
    "\n",
    "dataset = pd.read_csv(dataset_file_name)\n",
    "dataset = dataset.head(10000)"
   ]
  },
  {
   "cell_type": "code",
   "execution_count": 2,
   "metadata": {},
   "outputs": [
    {
     "data": {
      "text/html": [
       "<div>\n",
       "<style scoped>\n",
       "    .dataframe tbody tr th:only-of-type {\n",
       "        vertical-align: middle;\n",
       "    }\n",
       "\n",
       "    .dataframe tbody tr th {\n",
       "        vertical-align: top;\n",
       "    }\n",
       "\n",
       "    .dataframe thead th {\n",
       "        text-align: right;\n",
       "    }\n",
       "</style>\n",
       "<table border=\"1\" class=\"dataframe\">\n",
       "  <thead>\n",
       "    <tr style=\"text-align: right;\">\n",
       "      <th></th>\n",
       "      <th>Unnamed: 0</th>\n",
       "      <th>text</th>\n",
       "      <th>Emotion</th>\n",
       "    </tr>\n",
       "  </thead>\n",
       "  <tbody>\n",
       "    <tr>\n",
       "      <th>0</th>\n",
       "      <td>0</td>\n",
       "      <td>i seriously hate one subject to death but now ...</td>\n",
       "      <td>hate</td>\n",
       "    </tr>\n",
       "    <tr>\n",
       "      <th>1</th>\n",
       "      <td>1</td>\n",
       "      <td>im so full of life i feel appalled</td>\n",
       "      <td>neutral</td>\n",
       "    </tr>\n",
       "    <tr>\n",
       "      <th>2</th>\n",
       "      <td>2</td>\n",
       "      <td>i sit here to write i start to dig out my feel...</td>\n",
       "      <td>neutral</td>\n",
       "    </tr>\n",
       "    <tr>\n",
       "      <th>3</th>\n",
       "      <td>3</td>\n",
       "      <td>ive been really angry with r and i feel like a...</td>\n",
       "      <td>anger</td>\n",
       "    </tr>\n",
       "    <tr>\n",
       "      <th>4</th>\n",
       "      <td>4</td>\n",
       "      <td>i feel suspicious if there is no one outside l...</td>\n",
       "      <td>neutral</td>\n",
       "    </tr>\n",
       "  </tbody>\n",
       "</table>\n",
       "</div>"
      ],
      "text/plain": [
       "   Unnamed: 0                                               text  Emotion\n",
       "0           0  i seriously hate one subject to death but now ...     hate\n",
       "1           1                 im so full of life i feel appalled  neutral\n",
       "2           2  i sit here to write i start to dig out my feel...  neutral\n",
       "3           3  ive been really angry with r and i feel like a...    anger\n",
       "4           4  i feel suspicious if there is no one outside l...  neutral"
      ]
     },
     "execution_count": 2,
     "metadata": {},
     "output_type": "execute_result"
    }
   ],
   "source": [
    "dataset.head()"
   ]
  },
  {
   "cell_type": "code",
   "execution_count": 3,
   "metadata": {},
   "outputs": [
    {
     "data": {
      "text/plain": [
       "([<matplotlib.patches.Wedge at 0x3132b3eb0>,\n",
       "  <matplotlib.patches.Wedge at 0x313269070>,\n",
       "  <matplotlib.patches.Wedge at 0x3132cbbe0>,\n",
       "  <matplotlib.patches.Wedge at 0x3132e12b0>,\n",
       "  <matplotlib.patches.Wedge at 0x3132e1940>,\n",
       "  <matplotlib.patches.Wedge at 0x3132e1fd0>,\n",
       "  <matplotlib.patches.Wedge at 0x3132f06a0>,\n",
       "  <matplotlib.patches.Wedge at 0x3132f0d30>,\n",
       "  <matplotlib.patches.Wedge at 0x3132ff400>,\n",
       "  <matplotlib.patches.Wedge at 0x3132ffa90>,\n",
       "  <matplotlib.patches.Wedge at 0x31330c160>,\n",
       "  <matplotlib.patches.Wedge at 0x31330c7f0>,\n",
       "  <matplotlib.patches.Wedge at 0x31330cd60>],\n",
       " [Text(-0.9313440604271563, 0.5853189225602204, 'neutral'),\n",
       "  Text(0.585611369114235, -0.9311602033829364, 'love'),\n",
       "  Text(0.7637649962577088, -0.7916205091402462, 'happiness'),\n",
       "  Text(0.8844023430564791, -0.6540890578477904, 'relief'),\n",
       "  Text(0.9649344825021006, -0.528111204651448, 'hate'),\n",
       "  Text(1.0200603520224363, -0.41167569545925803, 'anger'),\n",
       "  Text(1.054570724813592, -0.3128587322836543, 'enthusiasm'),\n",
       "  Text(1.0765810458058107, -0.22577256656127917, 'sadness'),\n",
       "  Text(1.090664364277533, -0.14300784766957628, 'fun'),\n",
       "  Text(1.0969523899343077, -0.08182575522053251, 'worry'),\n",
       "  Text(1.0991383150282659, -0.04353118924202179, 'empty'),\n",
       "  Text(1.0999087507346628, -0.01416827644117519, 'surprise'),\n",
       "  Text(1.0999999456902394, -0.00034566091819073, 'boredom')],\n",
       " [Text(-0.5080058511420852, 0.31926486685102934, '82.1%'),\n",
       "  Text(0.319424383153219, -0.5079055654816016, '3.6%'),\n",
       "  Text(0.4165990888678411, -0.43179300498558876, '3.0%'),\n",
       "  Text(0.48240127803080673, -0.35677584973515836, '2.3%'),\n",
       "  Text(0.5263278995466002, -0.288060657082608, '2.0%'),\n",
       "  Text(0.5563965556486015, -0.22455037934141345, '1.7%'),\n",
       "  Text(0.5752203953528684, -0.17065021760926596, '1.3%'),\n",
       "  Text(0.5872260249849875, -0.12314867266978863, '1.3%'),\n",
       "  Text(0.5949078350604725, -0.07800428054704159, '1.1%'),\n",
       "  Text(0.5983376672368951, -0.04463223012029046, '0.7%'),\n",
       "  Text(0.5995299900154176, -0.02374428504110279, '0.5%'),\n",
       "  Text(0.5999502276734524, -0.007728150786095558, '0.4%'),\n",
       "  Text(0.5999999703764942, -0.00018854231901312544, '0.0%')])"
      ]
     },
     "execution_count": 3,
     "metadata": {},
     "output_type": "execute_result"
    },
    {
     "data": {
      "image/png": "[encoded data removed]",
      "text/plain": [
       "<Figure size 640x480 with 1 Axes>"
      ]
     },
     "metadata": {},
     "output_type": "display_data"
    }
   ],
   "source": [
    "import matplotlib.pyplot as plt\n",
    "\n",
    "emotion_counts = dataset[\"Emotion\"].value_counts()\n",
    "\n",
    "labels = emotion_counts.index\n",
    "sizes = emotion_counts.values\n",
    "\n",
    "fig, ax = plt.subplots()\n",
    "ax.pie(sizes, labels=labels, autopct=\"%1.1f%%\")"
   ]
  },
  {
   "cell_type": "code",
   "execution_count": 4,
   "metadata": {},
   "outputs": [],
   "source": [
    "# Map emotions to 'neutral' and 'non-neutral'\n",
    "dataset[\"Emotion\"] = dataset[\"Emotion\"].apply(lambda x: 0 if x == \"neutral\" else 1)"
   ]
  },
  {
   "cell_type": "code",
   "execution_count": 5,
   "metadata": {},
   "outputs": [],
   "source": [
    "import random\n",
    "\n",
    "random.seed(42)\n",
    "dataset[\"Type\"] = [\n",
    "    \"Train\" if random.random() < 0.8 else \"Test\" for _ in dataset[\"Emotion\"]\n",
    "]\n",
    "\n",
    "# Split dataset into train and test sets\n",
    "train_texts = dataset[dataset[\"Type\"] == \"Train\"][\"text\"]\n",
    "train_labels = dataset[dataset[\"Type\"] == \"Train\"][\"Emotion\"]\n",
    "\n",
    "test_texts = dataset[dataset[\"Type\"] == \"Test\"][\"text\"]\n",
    "test_labels = dataset[dataset[\"Type\"] == \"Test\"][\"Emotion\"]"
   ]
  },
  {
   "cell_type": "code",
   "execution_count": 6,
   "metadata": {},
   "outputs": [
    {
     "name": "stdout",
     "output_type": "stream",
     "text": [
      " 17.71% in training set\n",
      " 18.49% in testing set\n"
     ]
    }
   ],
   "source": [
    "import numpy as np\n",
    "\n",
    "percent_of_minority_train = np.mean(train_labels) * 100\n",
    "percent_of_minority_test = np.mean(test_labels) * 100\n",
    "\n",
    "print(f\" {percent_of_minority_train:.2f}% in training set\")\n",
    "print(f\" {percent_of_minority_test:.2f}% in testing set\")"
   ]
  },
  {
   "cell_type": "code",
   "execution_count": 7,
   "metadata": {},
   "outputs": [
    {
     "name": "stderr",
     "output_type": "stream",
     "text": [
      "/Users/zivattias/.local/share/virtualenvs/nlp_project-oDy93Rcp/lib/python3.9/site-packages/urllib3/__init__.py:35: NotOpenSSLWarning: urllib3 v2 only supports OpenSSL 1.1.1+, currently the 'ssl' module is compiled with 'LibreSSL 2.8.3'. See: https://github.com/urllib3/urllib3/issues/3020\n",
      "  warnings.warn(\n",
      "/Users/zivattias/.local/share/virtualenvs/nlp_project-oDy93Rcp/lib/python3.9/site-packages/tqdm/auto.py:21: TqdmWarning: IProgress not found. Please update jupyter and ipywidgets. See https://ipywidgets.readthedocs.io/en/stable/user_install.html\n",
      "  from .autonotebook import tqdm as notebook_tqdm\n",
      "/Users/zivattias/.local/share/virtualenvs/nlp_project-oDy93Rcp/lib/python3.9/site-packages/transformers/tokenization_utils_base.py:1601: FutureWarning: `clean_up_tokenization_spaces` was not set. It will be set to `True` by default. This behavior will be depracted in transformers v4.45, and will be then set to `False` by default. For more details check this issue: https://github.com/huggingface/transformers/issues/31884\n",
      "  warnings.warn(\n",
      "Map: 100%|██████████| 8031/8031 [00:02<00:00, 3661.61 examples/s]\n",
      "Map: 100%|██████████| 1969/1969 [00:00<00:00, 3721.45 examples/s]\n"
     ]
    },
    {
     "data": {
      "text/plain": [
       "DistilBertForSequenceClassification(\n",
       "  (distilbert): DistilBertModel(\n",
       "    (embeddings): Embeddings(\n",
       "      (word_embeddings): Embedding(30522, 768, padding_idx=0)\n",
       "      (position_embeddings): Embedding(512, 768)\n",
       "      (LayerNorm): LayerNorm((768,), eps=1e-12, elementwise_affine=True)\n",
       "      (dropout): Dropout(p=0.1, inplace=False)\n",
       "    )\n",
       "    (transformer): Transformer(\n",
       "      (layer): ModuleList(\n",
       "        (0-5): 6 x TransformerBlock(\n",
       "          (attention): MultiHeadSelfAttention(\n",
       "            (dropout): Dropout(p=0.1, inplace=False)\n",
       "            (q_lin): Linear(in_features=768, out_features=768, bias=True)\n",
       "            (k_lin): Linear(in_features=768, out_features=768, bias=True)\n",
       "            (v_lin): Linear(in_features=768, out_features=768, bias=True)\n",
       "            (out_lin): Linear(in_features=768, out_features=768, bias=True)\n",
       "          )\n",
       "          (sa_layer_norm): LayerNorm((768,), eps=1e-12, elementwise_affine=True)\n",
       "          (ffn): FFN(\n",
       "            (dropout): Dropout(p=0.1, inplace=False)\n",
       "            (lin1): Linear(in_features=768, out_features=3072, bias=True)\n",
       "            (lin2): Linear(in_features=3072, out_features=768, bias=True)\n",
       "            (activation): GELUActivation()\n",
       "          )\n",
       "          (output_layer_norm): LayerNorm((768,), eps=1e-12, elementwise_affine=True)\n",
       "        )\n",
       "      )\n",
       "    )\n",
       "  )\n",
       "  (pre_classifier): Linear(in_features=768, out_features=768, bias=True)\n",
       "  (classifier): Linear(in_features=768, out_features=2, bias=True)\n",
       "  (dropout): Dropout(p=0.2, inplace=False)\n",
       ")"
      ]
     },
     "execution_count": 7,
     "metadata": {},
     "output_type": "execute_result"
    }
   ],
   "source": [
    "from datasets import Dataset\n",
    "from transformers import DistilBertForSequenceClassification, DistilBertTokenizer\n",
    "\n",
    "# Prepare the dataset for the transformer\n",
    "train_dataset = Dataset.from_pandas(\n",
    "    pd.DataFrame({\"text\": train_texts, \"label\": train_labels})\n",
    ")\n",
    "test_dataset = Dataset.from_pandas(\n",
    "    pd.DataFrame({\"text\": test_texts, \"label\": test_labels})\n",
    ")\n",
    "\n",
    "# Load pre-trained DistilBERT tokenizer\n",
    "tokenizer = DistilBertTokenizer.from_pretrained(\"distilbert-base-uncased\")\n",
    "\n",
    "# Load pre-trained model, based on DistilBertForSequenceClassification but fine-tuned previously in class\n",
    "model = DistilBertForSequenceClassification.from_pretrained(\n",
    "    os.path.join(\"model\", \"text-classification\", \"bi-class\")\n",
    ")\n",
    "\n",
    "\n",
    "# Function to tokenize the dataset\n",
    "def tokenize_data(example):\n",
    "    return tokenizer(example[\"text\"], padding=\"max_length\", truncation=True)\n",
    "\n",
    "\n",
    "train_dataset = train_dataset.map(tokenize_data, batched=True)\n",
    "test_dataset = test_dataset.map(tokenize_data, batched=True)\n",
    "\n",
    "model"
   ]
  },
  {
   "cell_type": "code",
   "execution_count": 8,
   "metadata": {},
   "outputs": [
    {
     "name": "stderr",
     "output_type": "stream",
     "text": [
      "100%|██████████| 247/247 [00:43<00:00,  5.62it/s]"
     ]
    },
    {
     "name": "stdout",
     "output_type": "stream",
     "text": [
      "{'eval_loss': 0.07652145624160767, 'eval_model_preparation_time': 0.0008, 'eval_runtime': 44.6065, 'eval_samples_per_second': 44.142, 'eval_steps_per_second': 5.537}\n"
     ]
    },
    {
     "name": "stderr",
     "output_type": "stream",
     "text": [
      "\n"
     ]
    }
   ],
   "source": [
    "from transformers import Trainer, TrainingArguments\n",
    "\n",
    "# Define training arguments - ALREADY TRAINED @ src/model/text-classification/bi-class\n",
    "# training_args = TrainingArguments(\n",
    "#     output_dir=\"./results\",\n",
    "#     num_train_epochs=5,\n",
    "#     logging_dir=\"./logs\",\n",
    "#     do_eval=True,\n",
    "#     evaluation_strategy=\"epoch\",\n",
    "# )\n",
    "\n",
    "# Initialize Trainer\n",
    "trainer = Trainer(\n",
    "    model=model,\n",
    "    # args=training_args, - ALREADY TRAINED @ src/model/text-classification/bi-class\n",
    "    train_dataset=train_dataset,\n",
    "    eval_dataset=test_dataset,\n",
    ")\n",
    "\n",
    "# Train the model - ALREADY TRAINED @ src/model/text-classification/bi-class\n",
    "# trainer.train()\n",
    "\n",
    "# Evaluate the model\n",
    "results = trainer.evaluate()\n",
    "\n",
    "print(results)"
   ]
  },
  {
   "cell_type": "markdown",
   "metadata": {},
   "source": [
    "## 1.3\n"
   ]
  },
  {
   "cell_type": "code",
   "execution_count": 9,
   "metadata": {},
   "outputs": [],
   "source": [
    "from sklearn.metrics import precision_score, recall_score\n",
    "\n",
    "\n",
    "def compute_precision_recall(predictions, references, average=\"binary\"):\n",
    "    precision = precision_score(references, predictions, average=average)\n",
    "    recall = recall_score(references, predictions, average=average)\n",
    "    return precision, recall"
   ]
  },
  {
   "cell_type": "code",
   "execution_count": 10,
   "metadata": {},
   "outputs": [
    {
     "name": "stderr",
     "output_type": "stream",
     "text": [
      "100%|██████████| 1004/1004 [03:04<00:00,  5.45it/s]\n",
      "100%|██████████| 247/247 [00:45<00:00,  5.44it/s]"
     ]
    },
    {
     "name": "stdout",
     "output_type": "stream",
     "text": [
      "Training Precision: 1.0000, Training Recall: 0.9979\n",
      "Testing Precision: 0.9943, Testing Recall: 0.9615\n"
     ]
    },
    {
     "name": "stderr",
     "output_type": "stream",
     "text": [
      "\n"
     ]
    }
   ],
   "source": [
    "# Predict outputs for the training dataset\n",
    "train_output = trainer.predict(train_dataset)\n",
    "train_predictions = train_output.predictions.argmax(-1)\n",
    "train_references = train_output.label_ids\n",
    "\n",
    "# Predict outputs for the testing dataset\n",
    "test_output = trainer.predict(test_dataset)\n",
    "test_predictions = test_output.predictions.argmax(-1)\n",
    "test_references = test_output.label_ids\n",
    "\n",
    "# Compute precision and recall for the training dataset\n",
    "train_precision, train_recall = compute_precision_recall(\n",
    "    train_predictions, train_references\n",
    ")\n",
    "print(f\"Training Precision: {train_precision:.4f}, Training Recall: {train_recall:.4f}\")\n",
    "\n",
    "# Compute precision and recall for the testing dataset\n",
    "test_precision, test_recall = compute_precision_recall(\n",
    "    test_predictions, test_references\n",
    ")\n",
    "print(f\"Testing Precision: {test_precision:.4f}, Testing Recall: {test_recall:.4f}\")"
   ]
  },
  {
   "cell_type": "code",
   "execution_count": 11,
   "metadata": {},
   "outputs": [
    {
     "data": {
      "text/plain": [
       "<sklearn.metrics._plot.confusion_matrix.ConfusionMatrixDisplay at 0x31df0d7f0>"
      ]
     },
     "execution_count": 11,
     "metadata": {},
     "output_type": "execute_result"
    },
    {
     "data": {
      "image/png": "[encoded data removed]",
      "text/plain": [
       "<Figure size 640x480 with 2 Axes>"
      ]
     },
     "metadata": {},
     "output_type": "display_data"
    }
   ],
   "source": [
    "from sklearn.metrics import ConfusionMatrixDisplay, confusion_matrix\n",
    "\n",
    "conf_matrix = confusion_matrix(test_references, test_predictions)\n",
    "\n",
    "cm_display = ConfusionMatrixDisplay(conf_matrix)\n",
    "\n",
    "cm_display.plot()"
   ]
  },
  {
   "cell_type": "code",
   "execution_count": 12,
   "metadata": {},
   "outputs": [
    {
     "name": "stdout",
     "output_type": "stream",
     "text": [
      "Index(['neutral', 'love', 'happiness', 'relief', 'hate', 'anger', 'enthusiasm',\n",
      "       'sadness', 'fun', 'worry', 'empty', 'surprise', 'boredom'],\n",
      "      dtype='object', name='Emotion')\n",
      "\n",
      "Rows: 10000\n"
     ]
    }
   ],
   "source": [
    "# Print labels and dataset\n",
    "print(labels, end=\"\\n\\n\")\n",
    "print(\"Rows:\", dataset.shape[0])"
   ]
  },
  {
   "cell_type": "markdown",
   "metadata": {},
   "source": [
    "# **Advanced Section**\n"
   ]
  },
  {
   "cell_type": "markdown",
   "metadata": {},
   "source": [
    "## 1.4\n"
   ]
  },
  {
   "cell_type": "code",
   "execution_count": 25,
   "metadata": {},
   "outputs": [
    {
     "name": "stdout",
     "output_type": "stream",
     "text": [
      "Surprises rows: 39\n",
      "Surprises percentage: 0.39%\n"
     ]
    },
    {
     "data": {
      "text/html": [
       "<div>\n",
       "<style scoped>\n",
       "    .dataframe tbody tr th:only-of-type {\n",
       "        vertical-align: middle;\n",
       "    }\n",
       "\n",
       "    .dataframe tbody tr th {\n",
       "        vertical-align: top;\n",
       "    }\n",
       "\n",
       "    .dataframe thead th {\n",
       "        text-align: right;\n",
       "    }\n",
       "</style>\n",
       "<table border=\"1\" class=\"dataframe\">\n",
       "  <thead>\n",
       "    <tr style=\"text-align: right;\">\n",
       "      <th></th>\n",
       "      <th>Unnamed: 0</th>\n",
       "      <th>text</th>\n",
       "      <th>Emotion</th>\n",
       "    </tr>\n",
       "  </thead>\n",
       "  <tbody>\n",
       "    <tr>\n",
       "      <th>882</th>\n",
       "      <td>882</td>\n",
       "      <td>i feel you getting frantic close and just befo...</td>\n",
       "      <td>surprise</td>\n",
       "    </tr>\n",
       "    <tr>\n",
       "      <th>938</th>\n",
       "      <td>938</td>\n",
       "      <td>i feel like it s going to be something shockin...</td>\n",
       "      <td>surprise</td>\n",
       "    </tr>\n",
       "    <tr>\n",
       "      <th>1905</th>\n",
       "      <td>1905</td>\n",
       "      <td>i was a child this song makes me smile because...</td>\n",
       "      <td>surprise</td>\n",
       "    </tr>\n",
       "    <tr>\n",
       "      <th>3698</th>\n",
       "      <td>3698</td>\n",
       "      <td>ive had that vomity shocked feeling from jealo...</td>\n",
       "      <td>surprise</td>\n",
       "    </tr>\n",
       "    <tr>\n",
       "      <th>4352</th>\n",
       "      <td>4352</td>\n",
       "      <td>im shocked i feel my own little problems put i...</td>\n",
       "      <td>surprise</td>\n",
       "    </tr>\n",
       "  </tbody>\n",
       "</table>\n",
       "</div>"
      ],
      "text/plain": [
       "      Unnamed: 0                                               text   Emotion\n",
       "882          882  i feel you getting frantic close and just befo...  surprise\n",
       "938          938  i feel like it s going to be something shockin...  surprise\n",
       "1905        1905  i was a child this song makes me smile because...  surprise\n",
       "3698        3698  ive had that vomity shocked feeling from jealo...  surprise\n",
       "4352        4352  im shocked i feel my own little problems put i...  surprise"
      ]
     },
     "execution_count": 25,
     "metadata": {},
     "output_type": "execute_result"
    }
   ],
   "source": [
    "adv_dataset = pd.read_csv(dataset_file_name)\n",
    "adv_dataset = adv_dataset.head(10000)\n",
    "\n",
    "surprises = adv_dataset[adv_dataset[\"Emotion\"] == \"surprise\"]\n",
    "print(\"Surprises rows:\", surprises.shape[0])\n",
    "print(\n",
    "    \"Surprises percentage:\", f\"{(surprises.shape[0] / adv_dataset.shape[0] * 100):.2f}%\"\n",
    ")\n",
    "surprises.head()"
   ]
  },
  {
   "cell_type": "markdown",
   "metadata": {},
   "source": [
    "## 1.5\n"
   ]
  },
  {
   "cell_type": "code",
   "execution_count": 26,
   "metadata": {},
   "outputs": [
    {
     "data": {
      "text/html": [
       "<div>\n",
       "<style scoped>\n",
       "    .dataframe tbody tr th:only-of-type {\n",
       "        vertical-align: middle;\n",
       "    }\n",
       "\n",
       "    .dataframe tbody tr th {\n",
       "        vertical-align: top;\n",
       "    }\n",
       "\n",
       "    .dataframe thead th {\n",
       "        text-align: right;\n",
       "    }\n",
       "</style>\n",
       "<table border=\"1\" class=\"dataframe\">\n",
       "  <thead>\n",
       "    <tr style=\"text-align: right;\">\n",
       "      <th></th>\n",
       "      <th>Unnamed: 0</th>\n",
       "      <th>text</th>\n",
       "      <th>Emotion</th>\n",
       "      <th>Class</th>\n",
       "    </tr>\n",
       "  </thead>\n",
       "  <tbody>\n",
       "    <tr>\n",
       "      <th>0</th>\n",
       "      <td>0</td>\n",
       "      <td>i seriously hate one subject to death but now ...</td>\n",
       "      <td>hate</td>\n",
       "      <td>negative</td>\n",
       "    </tr>\n",
       "    <tr>\n",
       "      <th>1</th>\n",
       "      <td>1</td>\n",
       "      <td>im so full of life i feel appalled</td>\n",
       "      <td>neutral</td>\n",
       "      <td>neutral</td>\n",
       "    </tr>\n",
       "    <tr>\n",
       "      <th>2</th>\n",
       "      <td>2</td>\n",
       "      <td>i sit here to write i start to dig out my feel...</td>\n",
       "      <td>neutral</td>\n",
       "      <td>neutral</td>\n",
       "    </tr>\n",
       "    <tr>\n",
       "      <th>3</th>\n",
       "      <td>3</td>\n",
       "      <td>ive been really angry with r and i feel like a...</td>\n",
       "      <td>anger</td>\n",
       "      <td>negative</td>\n",
       "    </tr>\n",
       "    <tr>\n",
       "      <th>4</th>\n",
       "      <td>4</td>\n",
       "      <td>i feel suspicious if there is no one outside l...</td>\n",
       "      <td>neutral</td>\n",
       "      <td>neutral</td>\n",
       "    </tr>\n",
       "    <tr>\n",
       "      <th>5</th>\n",
       "      <td>5</td>\n",
       "      <td>i feel jealous becasue i wanted that kind of l...</td>\n",
       "      <td>love</td>\n",
       "      <td>positive</td>\n",
       "    </tr>\n",
       "    <tr>\n",
       "      <th>6</th>\n",
       "      <td>6</td>\n",
       "      <td>when a friend of mine keeps telling me morbid ...</td>\n",
       "      <td>neutral</td>\n",
       "      <td>neutral</td>\n",
       "    </tr>\n",
       "    <tr>\n",
       "      <th>7</th>\n",
       "      <td>7</td>\n",
       "      <td>i finally fell asleep feeling angry useless an...</td>\n",
       "      <td>worry</td>\n",
       "      <td>negative</td>\n",
       "    </tr>\n",
       "    <tr>\n",
       "      <th>8</th>\n",
       "      <td>8</td>\n",
       "      <td>i feel a bit annoyed and antsy in a good way</td>\n",
       "      <td>neutral</td>\n",
       "      <td>neutral</td>\n",
       "    </tr>\n",
       "    <tr>\n",
       "      <th>9</th>\n",
       "      <td>9</td>\n",
       "      <td>i feel like i ve regained another vital part o...</td>\n",
       "      <td>neutral</td>\n",
       "      <td>neutral</td>\n",
       "    </tr>\n",
       "  </tbody>\n",
       "</table>\n",
       "</div>"
      ],
      "text/plain": [
       "   Unnamed: 0                                               text  Emotion  \\\n",
       "0           0  i seriously hate one subject to death but now ...     hate   \n",
       "1           1                 im so full of life i feel appalled  neutral   \n",
       "2           2  i sit here to write i start to dig out my feel...  neutral   \n",
       "3           3  ive been really angry with r and i feel like a...    anger   \n",
       "4           4  i feel suspicious if there is no one outside l...  neutral   \n",
       "5           5  i feel jealous becasue i wanted that kind of l...     love   \n",
       "6           6  when a friend of mine keeps telling me morbid ...  neutral   \n",
       "7           7  i finally fell asleep feeling angry useless an...    worry   \n",
       "8           8       i feel a bit annoyed and antsy in a good way  neutral   \n",
       "9           9  i feel like i ve regained another vital part o...  neutral   \n",
       "\n",
       "      Class  \n",
       "0  negative  \n",
       "1   neutral  \n",
       "2   neutral  \n",
       "3  negative  \n",
       "4   neutral  \n",
       "5  positive  \n",
       "6   neutral  \n",
       "7  negative  \n",
       "8   neutral  \n",
       "9   neutral  "
      ]
     },
     "execution_count": 26,
     "metadata": {},
     "output_type": "execute_result"
    }
   ],
   "source": [
    "emotion_mapping = {\n",
    "    \"neutral\": \"neutral\",\n",
    "    \"love\": \"positive\",\n",
    "    \"happiness\": \"positive\",\n",
    "    \"relief\": \"positive\",\n",
    "    \"hate\": \"negative\",\n",
    "    \"anger\": \"negative\",\n",
    "    \"enthusiasm\": \"positive\",\n",
    "    \"sadness\": \"negative\",\n",
    "    \"fun\": \"positive\",\n",
    "    \"worry\": \"negative\",\n",
    "    \"empty\": \"negative\",\n",
    "    \"surprise\": \"positive\",\n",
    "    \"boredom\": \"negative\",\n",
    "}\n",
    "\n",
    "adv_dataset[\"Class\"] = adv_dataset[\"Emotion\"].map(emotion_mapping)\n",
    "adv_dataset[0:10]"
   ]
  },
  {
   "cell_type": "markdown",
   "metadata": {},
   "source": [
    "## 1.6\n"
   ]
  },
  {
   "cell_type": "code",
   "execution_count": 27,
   "metadata": {},
   "outputs": [
    {
     "data": {
      "text/html": [
       "<div>\n",
       "<style scoped>\n",
       "    .dataframe tbody tr th:only-of-type {\n",
       "        vertical-align: middle;\n",
       "    }\n",
       "\n",
       "    .dataframe tbody tr th {\n",
       "        vertical-align: top;\n",
       "    }\n",
       "\n",
       "    .dataframe thead th {\n",
       "        text-align: right;\n",
       "    }\n",
       "</style>\n",
       "<table border=\"1\" class=\"dataframe\">\n",
       "  <thead>\n",
       "    <tr style=\"text-align: right;\">\n",
       "      <th></th>\n",
       "      <th>Unnamed: 0</th>\n",
       "      <th>text</th>\n",
       "      <th>Emotion</th>\n",
       "      <th>Class</th>\n",
       "    </tr>\n",
       "  </thead>\n",
       "  <tbody>\n",
       "    <tr>\n",
       "      <th>0</th>\n",
       "      <td>0</td>\n",
       "      <td>i seriously hate one subject to death but now ...</td>\n",
       "      <td>hate</td>\n",
       "      <td>2</td>\n",
       "    </tr>\n",
       "    <tr>\n",
       "      <th>1</th>\n",
       "      <td>1</td>\n",
       "      <td>im so full of life i feel appalled</td>\n",
       "      <td>neutral</td>\n",
       "      <td>0</td>\n",
       "    </tr>\n",
       "    <tr>\n",
       "      <th>2</th>\n",
       "      <td>2</td>\n",
       "      <td>i sit here to write i start to dig out my feel...</td>\n",
       "      <td>neutral</td>\n",
       "      <td>0</td>\n",
       "    </tr>\n",
       "    <tr>\n",
       "      <th>3</th>\n",
       "      <td>3</td>\n",
       "      <td>ive been really angry with r and i feel like a...</td>\n",
       "      <td>anger</td>\n",
       "      <td>2</td>\n",
       "    </tr>\n",
       "    <tr>\n",
       "      <th>4</th>\n",
       "      <td>4</td>\n",
       "      <td>i feel suspicious if there is no one outside l...</td>\n",
       "      <td>neutral</td>\n",
       "      <td>0</td>\n",
       "    </tr>\n",
       "    <tr>\n",
       "      <th>5</th>\n",
       "      <td>5</td>\n",
       "      <td>i feel jealous becasue i wanted that kind of l...</td>\n",
       "      <td>love</td>\n",
       "      <td>1</td>\n",
       "    </tr>\n",
       "    <tr>\n",
       "      <th>6</th>\n",
       "      <td>6</td>\n",
       "      <td>when a friend of mine keeps telling me morbid ...</td>\n",
       "      <td>neutral</td>\n",
       "      <td>0</td>\n",
       "    </tr>\n",
       "    <tr>\n",
       "      <th>7</th>\n",
       "      <td>7</td>\n",
       "      <td>i finally fell asleep feeling angry useless an...</td>\n",
       "      <td>worry</td>\n",
       "      <td>2</td>\n",
       "    </tr>\n",
       "    <tr>\n",
       "      <th>8</th>\n",
       "      <td>8</td>\n",
       "      <td>i feel a bit annoyed and antsy in a good way</td>\n",
       "      <td>neutral</td>\n",
       "      <td>0</td>\n",
       "    </tr>\n",
       "    <tr>\n",
       "      <th>9</th>\n",
       "      <td>9</td>\n",
       "      <td>i feel like i ve regained another vital part o...</td>\n",
       "      <td>neutral</td>\n",
       "      <td>0</td>\n",
       "    </tr>\n",
       "  </tbody>\n",
       "</table>\n",
       "</div>"
      ],
      "text/plain": [
       "   Unnamed: 0                                               text  Emotion  \\\n",
       "0           0  i seriously hate one subject to death but now ...     hate   \n",
       "1           1                 im so full of life i feel appalled  neutral   \n",
       "2           2  i sit here to write i start to dig out my feel...  neutral   \n",
       "3           3  ive been really angry with r and i feel like a...    anger   \n",
       "4           4  i feel suspicious if there is no one outside l...  neutral   \n",
       "5           5  i feel jealous becasue i wanted that kind of l...     love   \n",
       "6           6  when a friend of mine keeps telling me morbid ...  neutral   \n",
       "7           7  i finally fell asleep feeling angry useless an...    worry   \n",
       "8           8       i feel a bit annoyed and antsy in a good way  neutral   \n",
       "9           9  i feel like i ve regained another vital part o...  neutral   \n",
       "\n",
       "   Class  \n",
       "0      2  \n",
       "1      0  \n",
       "2      0  \n",
       "3      2  \n",
       "4      0  \n",
       "5      1  \n",
       "6      0  \n",
       "7      2  \n",
       "8      0  \n",
       "9      0  "
      ]
     },
     "execution_count": 27,
     "metadata": {},
     "output_type": "execute_result"
    }
   ],
   "source": [
    "# Map emotions to 'neutral', 'positive', 'negative'\n",
    "label_mapping = {\"neutral\": 0, \"positive\": 1, \"negative\": 2}\n",
    "adv_dataset[\"Class\"] = adv_dataset[\"Class\"].apply(\n",
    "    lambda x: label_mapping[x] if x in label_mapping else x\n",
    ")\n",
    "\n",
    "adv_dataset.head(10)"
   ]
  },
  {
   "cell_type": "code",
   "execution_count": 28,
   "metadata": {},
   "outputs": [
    {
     "name": "stdout",
     "output_type": "stream",
     "text": [
      "Number of test samples: 8000\n",
      "6566 neutral 959 positive 475 negative\n",
      "\n",
      "Number of test samples: 2000\n",
      "1648 neutral 212 positive 140 negative\n"
     ]
    }
   ],
   "source": [
    "from sklearn.model_selection import train_test_split\n",
    "\n",
    "train_texts, test_texts, train_labels, test_labels = train_test_split(\n",
    "    adv_dataset[\"text\"].tolist(),\n",
    "    adv_dataset[\"Class\"].tolist(),\n",
    "    test_size=0.2,\n",
    "    random_state=42,\n",
    ")\n",
    "\n",
    "print(\"Number of test samples:\", len(train_texts))\n",
    "print(\n",
    "    train_labels.count(0),\n",
    "    \"neutral\",\n",
    "    train_labels.count(1),\n",
    "    \"positive\",\n",
    "    train_labels.count(2),\n",
    "    \"negative\",\n",
    "    end=\"\\n\\n\",\n",
    ")\n",
    "\n",
    "print(\"Number of test samples:\", len(test_texts))\n",
    "print(\n",
    "    test_labels.count(0),\n",
    "    \"neutral\",\n",
    "    test_labels.count(1),\n",
    "    \"positive\",\n",
    "    test_labels.count(2),\n",
    "    \"negative\",\n",
    ")"
   ]
  },
  {
   "cell_type": "code",
   "execution_count": 29,
   "metadata": {},
   "outputs": [
    {
     "name": "stderr",
     "output_type": "stream",
     "text": [
      "Map: 100%|██████████| 8000/8000 [00:02<00:00, 3747.78 examples/s]\n",
      "Map: 100%|██████████| 2000/2000 [00:00<00:00, 3796.63 examples/s]\n"
     ]
    }
   ],
   "source": [
    "adv_train_dataset = Dataset.from_pandas(\n",
    "    pd.DataFrame({\"text\": train_texts, \"label\": train_labels})\n",
    ")\n",
    "\n",
    "adv_test_dataset = Dataset.from_pandas(\n",
    "    pd.DataFrame({\"text\": test_texts, \"label\": test_labels})\n",
    ")\n",
    "\n",
    "adv_train_dataset = adv_train_dataset.map(tokenize_data, batched=True)\n",
    "adv_test_dataset = adv_test_dataset.map(tokenize_data, batched=True)"
   ]
  },
  {
   "cell_type": "code",
   "execution_count": null,
   "metadata": {},
   "outputs": [],
   "source": [
    "from transformers import Trainer, TrainingArguments\n",
    "\n",
    "# Define training arguments\n",
    "training_args = TrainingArguments(\n",
    "    output_dir=\"./model/text-classification/tri-class/results\",\n",
    "    num_train_epochs=4,\n",
    "    logging_dir=\"./model/text-classification/tri-class/logs\",\n",
    "    do_eval=True,\n",
    "    eval_strategy=\"epoch\",\n",
    ")\n",
    "\n",
    "\n",
    "base_distilbert_model = DistilBertForSequenceClassification.from_pretrained(\n",
    "    \"./model/text-classification/tri-class/results/checkpoint-1500\", num_labels=3\n",
    ")\n",
    "\n",
    "# Initialize Trainer\n",
    "tri_class_trainer = Trainer(\n",
    "    model=base_distilbert_model,\n",
    "    args=training_args,\n",
    "    train_dataset=adv_train_dataset,\n",
    "    eval_dataset=adv_test_dataset,\n",
    ")\n",
    "\n",
    "\n",
    "# Train the model\n",
    "tri_class_trainer.train()\n",
    "tri_class_trainer.save_model(\"./model/tri-class/final_model\")\n",
    "\n",
    "# Evaluate the model\n",
    "results = tri_class_trainer.evaluate()\n",
    "\n",
    "print(results)"
   ]
  },
  {
   "cell_type": "code",
   "execution_count": 34,
   "metadata": {},
   "outputs": [
    {
     "name": "stderr",
     "output_type": "stream",
     "text": [
      "1243it [04:03,  5.11it/s]                          \n",
      "100%|██████████| 250/250 [00:46<00:00,  5.42it/s]\n"
     ]
    }
   ],
   "source": [
    "train_output = tri_class_trainer.predict(adv_train_dataset)\n",
    "train_predictions = train_output.predictions.argmax(-1)\n",
    "train_references = train_output.label_ids\n",
    "\n",
    "\n",
    "test_output = tri_class_trainer.predict(adv_test_dataset)\n",
    "test_predictions = test_output.predictions.argmax(-1)\n",
    "test_references = test_output.label_ids"
   ]
  },
  {
   "cell_type": "code",
   "execution_count": 36,
   "metadata": {},
   "outputs": [
    {
     "name": "stdout",
     "output_type": "stream",
     "text": [
      "Training Precision: 0.9897, Training Recall: 0.9845\n",
      "Testing Precision: 0.9823, Testing Recall: 0.9697\n"
     ]
    }
   ],
   "source": [
    "train_precision, train_recall = compute_precision_recall(\n",
    "    train_predictions, train_references, average=\"macro\"\n",
    ")\n",
    "print(f\"Training Precision: {train_precision:.4f}, Training Recall: {train_recall:.4f}\")\n",
    "\n",
    "\n",
    "test_precision, test_recall = compute_precision_recall(\n",
    "    test_predictions, test_references, average=\"macro\"\n",
    ")\n",
    "print(f\"Testing Precision: {test_precision:.4f}, Testing Recall: {test_recall:.4f}\")"
   ]
  },
  {
   "cell_type": "code",
   "execution_count": 35,
   "metadata": {},
   "outputs": [
    {
     "data": {
      "text/plain": [
       "<sklearn.metrics._plot.confusion_matrix.ConfusionMatrixDisplay at 0x4fc8f3a90>"
      ]
     },
     "execution_count": 35,
     "metadata": {},
     "output_type": "execute_result"
    },
    {
     "data": {
      "image/png": "[encoded data removed]",
      "text/plain": [
       "<Figure size 640x480 with 2 Axes>"
      ]
     },
     "metadata": {},
     "output_type": "display_data"
    }
   ],
   "source": [
    "conf_matrix_adv = confusion_matrix(test_references, test_predictions)\n",
    "cm_display = ConfusionMatrixDisplay(conf_matrix_adv)\n",
    "cm_display.plot()"
   ]
  }
 ],
 "metadata": {
  "kernelspec": {
   "display_name": "npl_project-3NcreqzX",
   "language": "python",
   "name": "python3"
  },
  "language_info": {
   "codemirror_mode": {
    "name": "ipython",
    "version": 3
   },
   "file_extension": ".py",
   "mimetype": "text/x-python",
   "name": "python",
   "nbconvert_exporter": "python",
   "pygments_lexer": "ipython3",
   "version": "3.9.6"
  }
 },
 "nbformat": 4,
 "nbformat_minor": 2
}
